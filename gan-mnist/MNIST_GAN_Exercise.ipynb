{
 "cells": [
  {
   "cell_type": "markdown",
   "metadata": {},
   "source": [
    "# Generative Adversarial Network\n",
    "\n",
    "In this notebook, we'll be building a generative adversarial network (GAN) trained on the MNIST dataset. From this, we'll be able to generate new handwritten digits!\n",
    "\n",
    "GANs were [first reported on](https://arxiv.org/abs/1406.2661) in 2014 from Ian Goodfellow and others in Yoshua Bengio's lab. Since then, GANs have exploded in popularity. Here are a few examples to check out:\n",
    "\n",
    "* [Pix2Pix](https://affinelayer.com/pixsrv/) \n",
    "* [CycleGAN & Pix2Pix in PyTorch, Jun-Yan Zhu](https://github.com/junyanz/pytorch-CycleGAN-and-pix2pix)\n",
    "* [A list of generative models](https://github.com/wiseodd/generative-models)\n",
    "\n",
    "The idea behind GANs is that you have two networks, a generator $G$ and a discriminator $D$, competing against each other. The generator makes \"fake\" data to pass to the discriminator. The discriminator also sees real training data and predicts if the data it's received is real or fake. \n",
    "> * The generator is trained to fool the discriminator, it wants to output data that looks _as close as possible_ to real, training data. \n",
    "* The discriminator is a classifier that is trained to figure out which data is real and which is fake. \n",
    "\n",
    "What ends up happening is that the generator learns to make data that is indistinguishable from real data to the discriminator.\n",
    "\n",
    "<img src='assets/gan_pipeline.png' width=70% />\n",
    "\n",
    "The general structure of a GAN is shown in the diagram above, using MNIST images as data. The latent sample is a random vector that the generator uses to construct its fake images. This is often called a **latent vector** and that vector space is called **latent space**. As the generator trains, it figures out how to map latent vectors to recognizable images that can fool the discriminator.\n",
    "\n",
    "If you're interested in generating only new images, you can throw out the discriminator after training. In this notebook, I'll show you how to define and train these adversarial networks in PyTorch and generate new images!"
   ]
  },
  {
   "cell_type": "code",
   "execution_count": 1,
   "metadata": {},
   "outputs": [],
   "source": [
    "%matplotlib inline\n",
    "\n",
    "import numpy as np\n",
    "import torch\n",
    "import matplotlib.pyplot as plt"
   ]
  },
  {
   "cell_type": "code",
   "execution_count": 2,
   "metadata": {},
   "outputs": [
    {
     "name": "stdout",
     "output_type": "stream",
     "text": [
      "Downloading http://yann.lecun.com/exdb/mnist/train-images-idx3-ubyte.gz to data\\MNIST\\raw\\train-images-idx3-ubyte.gz\n"
     ]
    },
    {
     "name": "stderr",
     "output_type": "stream",
     "text": [
      "9920512it [00:03, 2627471.55it/s]                                                                                      \n"
     ]
    },
    {
     "name": "stdout",
     "output_type": "stream",
     "text": [
      "Extracting data\\MNIST\\raw\\train-images-idx3-ubyte.gz to data\\MNIST\\raw\n",
      "Downloading http://yann.lecun.com/exdb/mnist/train-labels-idx1-ubyte.gz to data\\MNIST\\raw\\train-labels-idx1-ubyte.gz\n"
     ]
    },
    {
     "name": "stderr",
     "output_type": "stream",
     "text": [
      "32768it [00:00, 91688.62it/s]                                                                                          \n"
     ]
    },
    {
     "name": "stdout",
     "output_type": "stream",
     "text": [
      "Extracting data\\MNIST\\raw\\train-labels-idx1-ubyte.gz to data\\MNIST\\raw\n",
      "Downloading http://yann.lecun.com/exdb/mnist/t10k-images-idx3-ubyte.gz to data\\MNIST\\raw\\t10k-images-idx3-ubyte.gz\n"
     ]
    },
    {
     "name": "stderr",
     "output_type": "stream",
     "text": [
      "1654784it [00:01, 1369817.33it/s]                                                                                      \n"
     ]
    },
    {
     "name": "stdout",
     "output_type": "stream",
     "text": [
      "Extracting data\\MNIST\\raw\\t10k-images-idx3-ubyte.gz to data\\MNIST\\raw\n",
      "Downloading http://yann.lecun.com/exdb/mnist/t10k-labels-idx1-ubyte.gz to data\\MNIST\\raw\\t10k-labels-idx1-ubyte.gz\n"
     ]
    },
    {
     "name": "stderr",
     "output_type": "stream",
     "text": [
      "8192it [00:00, 46346.21it/s]                                                                                           \n"
     ]
    },
    {
     "name": "stdout",
     "output_type": "stream",
     "text": [
      "Extracting data\\MNIST\\raw\\t10k-labels-idx1-ubyte.gz to data\\MNIST\\raw\n",
      "Processing...\n",
      "Done!\n"
     ]
    }
   ],
   "source": [
    "from torchvision import datasets\n",
    "import torchvision.transforms as transforms\n",
    "\n",
    "# number of subprocesses to use for data loading\n",
    "num_workers = 0\n",
    "# how many samples per batch to load\n",
    "batch_size = 64\n",
    "\n",
    "# convert data to torch.FloatTensor\n",
    "transform = transforms.ToTensor()\n",
    "\n",
    "# get the training datasets\n",
    "train_data = datasets.MNIST(root='data', train=True,\n",
    "                                   download=True, transform=transform)\n",
    "\n",
    "# prepare data loader\n",
    "train_loader = torch.utils.data.DataLoader(train_data, batch_size=batch_size,\n",
    "                                           num_workers=num_workers)"
   ]
  },
  {
   "cell_type": "markdown",
   "metadata": {},
   "source": [
    "### Visualize the data"
   ]
  },
  {
   "cell_type": "code",
   "execution_count": 3,
   "metadata": {},
   "outputs": [
    {
     "data": {
      "text/plain": [
       "<matplotlib.image.AxesImage at 0x1ddd1980080>"
      ]
     },
     "execution_count": 3,
     "metadata": {},
     "output_type": "execute_result"
    },
    {
     "data": {
      "image/png": "[encoded data removed]",
      "text/plain": [
       "<Figure size 216x216 with 1 Axes>"
      ]
     },
     "metadata": {
      "needs_background": "light"
     },
     "output_type": "display_data"
    }
   ],
   "source": [
    "# obtain one batch of training images\n",
    "dataiter = iter(train_loader)\n",
    "images, labels = dataiter.next()\n",
    "images = images.numpy()\n",
    "\n",
    "# get one image from the batch\n",
    "img = np.squeeze(images[0])\n",
    "\n",
    "fig = plt.figure(figsize = (3,3)) \n",
    "ax = fig.add_subplot(111)\n",
    "ax.imshow(img, cmap='gray')"
   ]
  },
  {
   "cell_type": "markdown",
   "metadata": {},
   "source": [
    "---\n",
    "# Define the Model\n",
    "\n",
    "A GAN is comprised of two adversarial networks, a discriminator and a generator."
   ]
  },
  {
   "cell_type": "markdown",
   "metadata": {},
   "source": [
    "## Discriminator\n",
    "\n",
    "The discriminator network is going to be a pretty typical linear classifier. To make this network a universal function approximator, we'll need at least one hidden layer, and these hidden layers should have one key attribute:\n",
    "> All hidden layers will have a [Leaky ReLu](https://pytorch.org/docs/stable/nn.html#torch.nn.LeakyReLU) activation function applied to their outputs.\n",
    "\n",
    "<img src='assets/gan_network.png' width=70% />\n",
    "\n",
    "#### Leaky ReLu\n",
    "\n",
    "We should use a leaky ReLU to allow gradients to flow backwards through the layer unimpeded. A leaky ReLU is like a normal ReLU, except that there is a small non-zero output for negative input values.\n",
    "\n",
    "<img src='assets/leaky_relu.png' width=40% />\n",
    "\n",
    "#### Sigmoid Output\n",
    "\n",
    "We'll also take the approach of using a more numerically stable loss function on the outputs. Recall that we want the discriminator to output a value 0-1 indicating whether an image is _real or fake_. \n",
    "> We will ultimately use [BCEWithLogitsLoss](https://pytorch.org/docs/stable/nn.html#bcewithlogitsloss), which combines a `sigmoid` activation function **and** and binary cross entropy loss in one function. \n",
    "\n",
    "So, our final output layer should not have any activation function applied to it."
   ]
  },
  {
   "cell_type": "code",
   "execution_count": 19,
   "metadata": {},
   "outputs": [],
   "source": [
    "import torch.nn as nn\n",
    "import torch.nn.functional as F\n",
    "\n",
    "class Discriminator(nn.Module):\n",
    "\n",
    "    def __init__(self, input_size, hidden_dim, output_size):\n",
    "        super(Discriminator, self).__init__()\n",
    "        \n",
    "        # define hidden linear layers\n",
    "        self.fc1 = nn.Linear(input_size, hidden_dim*4)\n",
    "        self.fc2 = nn.Linear(hidden_dim*4, hidden_dim*2)\n",
    "        self.fc3 = nn.Linear(hidden_dim*2, hidden_dim)\n",
    "        \n",
    "        # final fully-connected layer\n",
    "        self.fc4 = nn.Linear(hidden_dim, output_size)\n",
    "        \n",
    "        # dropout layer \n",
    "        self.dropout = nn.Dropout(0.3)\n",
    "        \n",
    "        \n",
    "    def forward(self, x):\n",
    "        # flatten image\n",
    "        x = x.view(-1, 28*28)\n",
    "        # all hidden layers\n",
    "        x = F.leaky_relu(self.fc1(x), 0.2) # (input, negative_slope=0.2)\n",
    "        x = self.dropout(x)\n",
    "        x = F.leaky_relu(self.fc2(x), 0.2)\n",
    "        x = self.dropout(x)\n",
    "        x = F.leaky_relu(self.fc3(x), 0.2)\n",
    "        x = self.dropout(x)\n",
    "        # final layer\n",
    "        out = self.fc4(x)\n",
    "\n",
    "        return out\n"
   ]
  },
  {
   "cell_type": "markdown",
   "metadata": {},
   "source": [
    "## Generator\n",
    "\n",
    "The generator network will be almost exactly the same as the discriminator network, except that we're applying a [tanh activation function](https://pytorch.org/docs/stable/nn.html#tanh) to our output layer.\n",
    "\n",
    "#### tanh Output\n",
    "The generator has been found to perform the best with $tanh$ for the generator output, which scales the output to be between -1 and 1, instead of 0 and 1. \n",
    "\n",
    "<img src='assets/tanh_fn.png' width=40% />\n",
    "\n",
    "Recall that we also want these outputs to be comparable to the *real* input pixel values, which are read in as normalized values between 0 and 1. \n",
    "> So, we'll also have to **scale our real input images to have pixel values between -1 and 1** when we train the discriminator. \n",
    "\n",
    "I'll do this in the training loop, later on."
   ]
  },
  {
   "cell_type": "code",
   "execution_count": 20,
   "metadata": {},
   "outputs": [],
   "source": [
    "class Generator(nn.Module):\n",
    "\n",
    "    def __init__(self, input_size, hidden_dim, output_size):\n",
    "        super(Generator, self).__init__()\n",
    "        \n",
    "        # define hidden linear layers\n",
    "        self.fc1 = nn.Linear(input_size, hidden_dim)\n",
    "        self.fc2 = nn.Linear(hidden_dim, hidden_dim*2)\n",
    "        self.fc3 = nn.Linear(hidden_dim*2, hidden_dim*4)\n",
    "        \n",
    "        # final fully-connected layer\n",
    "        self.fc4 = nn.Linear(hidden_dim*4, output_size)\n",
    "        \n",
    "        # dropout layer \n",
    "        self.dropout = nn.Dropout(0.3)\n",
    "\n",
    "    def forward(self, x):\n",
    "        # all hidden layers\n",
    "        x = F.leaky_relu(self.fc1(x), 0.2) # (input, negative_slope=0.2)\n",
    "        x = self.dropout(x)\n",
    "        x = F.leaky_relu(self.fc2(x), 0.2)\n",
    "        x = self.dropout(x)\n",
    "        x = F.leaky_relu(self.fc3(x), 0.2)\n",
    "        x = self.dropout(x)\n",
    "        # final layer with tanh applied\n",
    "        out = F.tanh(self.fc4(x))\n",
    "\n",
    "        return out"
   ]
  },
  {
   "cell_type": "markdown",
   "metadata": {},
   "source": [
    "## Model hyperparameters"
   ]
  },
  {
   "cell_type": "code",
   "execution_count": 21,
   "metadata": {},
   "outputs": [],
   "source": [
    "# Discriminator hyperparams\n",
    "\n",
    "# Size of input image to discriminator (28*28)\n",
    "input_size = 28 * 28\n",
    "# Size of discriminator output (real or fake)\n",
    "d_output_size = 1\n",
    "# Size of *last* hidden layer in the discriminator\n",
    "d_hidden_size = 32\n",
    "\n",
    "# Generator hyperparams\n",
    "\n",
    "# Size of latent vector to give to generator\n",
    "z_size = 128\n",
    "# Size of discriminator output (generated image)\n",
    "g_output_size = 784\n",
    "# Size of *first* hidden layer in the generator\n",
    "g_hidden_size = 32"
   ]
  },
  {
   "cell_type": "markdown",
   "metadata": {},
   "source": [
    "## Build complete network\n",
    "\n",
    "Now we're instantiating the discriminator and generator from the classes defined above. Make sure you've passed in the correct input arguments."
   ]
  },
  {
   "cell_type": "code",
   "execution_count": 22,
   "metadata": {},
   "outputs": [
    {
     "name": "stdout",
     "output_type": "stream",
     "text": [
      "Discriminator(\n",
      "  (fc1): Linear(in_features=784, out_features=128, bias=True)\n",
      "  (fc2): Linear(in_features=128, out_features=64, bias=True)\n",
      "  (fc3): Linear(in_features=64, out_features=32, bias=True)\n",
      "  (fc4): Linear(in_features=32, out_features=1, bias=True)\n",
      "  (dropout): Dropout(p=0.3, inplace=False)\n",
      ")\n",
      "\n",
      "Generator(\n",
      "  (fc1): Linear(in_features=100, out_features=32, bias=True)\n",
      "  (fc2): Linear(in_features=32, out_features=64, bias=True)\n",
      "  (fc3): Linear(in_features=64, out_features=128, bias=True)\n",
      "  (fc4): Linear(in_features=128, out_features=784, bias=True)\n",
      "  (dropout): Dropout(p=0.3, inplace=False)\n",
      ")\n"
     ]
    }
   ],
   "source": [
    "# instantiate discriminator and generator\n",
    "D = Discriminator(input_size, d_hidden_size, d_output_size)\n",
    "G = Generator(z_size, g_hidden_size, g_output_size)\n",
    "\n",
    "# check that they are as you expect\n",
    "print(D)\n",
    "print()\n",
    "print(G)"
   ]
  },
  {
   "cell_type": "markdown",
   "metadata": {},
   "source": [
    "---\n",
    "## Discriminator and Generator Losses\n",
    "\n",
    "Now we need to calculate the losses. \n",
    "\n",
    "### Discriminator Losses\n",
    "\n",
    "> * For the discriminator, the total loss is the sum of the losses for real and fake images, `d_loss = d_real_loss + d_fake_loss`. \n",
    "* Remember that we want the discriminator to output 1 for real images and 0 for fake images, so we need to set up the losses to reflect that.\n",
    "\n",
    "<img src='assets/gan_pipeline.png' width=70% />\n",
    "\n",
    "The losses will by binary cross entropy loss with logits, which we can get with [BCEWithLogitsLoss](https://pytorch.org/docs/stable/nn.html#bcewithlogitsloss). This combines a `sigmoid` activation function **and** and binary cross entropy loss in one function.\n",
    "\n",
    "For the real images, we want `D(real_images) = 1`. That is, we want the discriminator to classify the the real images with a label = 1, indicating that these are real. To help the discriminator generalize better, the labels are **reduced a bit from 1.0 to 0.9**. For this, we'll use the parameter `smooth`; if True, then we should smooth our labels. In PyTorch, this looks like `labels = torch.ones(size) * 0.9`\n",
    "\n",
    "The discriminator loss for the fake data is similar. We want `D(fake_images) = 0`, where the fake images are the _generator output_, `fake_images = G(z)`. \n",
    "\n",
    "### Generator Loss\n",
    "\n",
    "The generator loss will look similar only with flipped labels. The generator's goal is to get `D(fake_images) = 1`. In this case, the labels are **flipped** to represent that the generator is trying to fool the discriminator into thinking that the images it generates (fakes) are real!"
   ]
  },
  {
   "cell_type": "code",
   "execution_count": 23,
   "metadata": {},
   "outputs": [],
   "source": [
    "# Calculate losses\n",
    "def real_loss(D_out, smooth=False):\n",
    "    batch_size = D_out.size(0)\n",
    "    # label smoothing\n",
    "    if smooth:\n",
    "        # smooth, real labels = 0.9\n",
    "        labels = torch.ones(batch_size)*0.9\n",
    "    else:\n",
    "        labels = torch.ones(batch_size) # real labels = 1\n",
    "        \n",
    "    # numerically stable loss\n",
    "    criterion = nn.BCEWithLogitsLoss()\n",
    "    # calculate loss\n",
    "    loss = criterion(D_out.squeeze(), labels)\n",
    "    return loss\n",
    "\n",
    "def fake_loss(D_out):\n",
    "    batch_size = D_out.size(0)\n",
    "    labels = torch.zeros(batch_size) # fake labels = 0\n",
    "    criterion = nn.BCEWithLogitsLoss()\n",
    "    # calculate loss\n",
    "    loss = criterion(D_out.squeeze(), labels)\n",
    "    return loss"
   ]
  },
  {
   "cell_type": "markdown",
   "metadata": {},
   "source": [
    "## Optimizers\n",
    "\n",
    "We want to update the generator and discriminator variables separately. So, we'll define two separate Adam optimizers."
   ]
  },
  {
   "cell_type": "code",
   "execution_count": 24,
   "metadata": {
    "scrolled": true
   },
   "outputs": [],
   "source": [
    "import torch.optim as optim\n",
    "\n",
    "# learning rate for optimizers\n",
    "lr = 0.002\n",
    "\n",
    "# Create optimizers for the discriminator and generator\n",
    "d_optimizer = optim.Adam(D.parameters(), lr)\n",
    "g_optimizer = optim.Adam(G.parameters(), lr)"
   ]
  },
  {
   "cell_type": "markdown",
   "metadata": {},
   "source": [
    "---\n",
    "## Training\n",
    "\n",
    "Training will involve alternating between training the discriminator and the generator. We'll use our functions `real_loss` and `fake_loss` to help us calculate the discriminator losses in all of the following cases.\n",
    "\n",
    "### Discriminator training\n",
    "1. Compute the discriminator loss on real, training images        \n",
    "2. Generate fake images\n",
    "3. Compute the discriminator loss on fake, generated images     \n",
    "4. Add up real and fake loss\n",
    "5. Perform backpropagation + an optimization step to update the discriminator's weights\n",
    "\n",
    "### Generator training\n",
    "1. Generate fake images\n",
    "2. Compute the discriminator loss on fake images, using **flipped** labels!\n",
    "3. Perform backpropagation + an optimization step to update the generator's weights\n",
    "\n",
    "#### Saving Samples\n",
    "\n",
    "As we train, we'll also print out some loss statistics and save some generated \"fake\" samples."
   ]
  },
  {
   "cell_type": "code",
   "execution_count": 25,
   "metadata": {
    "scrolled": true
   },
   "outputs": [
    {
     "name": "stderr",
     "output_type": "stream",
     "text": [
      "C:\\Users\\xquyv\\AppData\\Local\\Continuum\\anaconda3\\lib\\site-packages\\torch\\nn\\functional.py:1339: UserWarning: nn.functional.tanh is deprecated. Use torch.tanh instead.\n",
      "  warnings.warn(\"nn.functional.tanh is deprecated. Use torch.tanh instead.\")\n"
     ]
    },
    {
     "name": "stdout",
     "output_type": "stream",
     "text": [
      "Epoch [    1/  100] | d_loss: 1.3700 | g_loss: 0.7177\n",
      "Epoch [    1/  100] | d_loss: 1.0734 | g_loss: 1.6513\n",
      "Epoch [    1/  100] | d_loss: 1.0966 | g_loss: 1.3416\n",
      "Epoch [    2/  100] | d_loss: 1.3698 | g_loss: 0.7355\n",
      "Epoch [    2/  100] | d_loss: 1.2782 | g_loss: 0.8567\n",
      "Epoch [    2/  100] | d_loss: 1.3200 | g_loss: 0.7447\n",
      "Epoch [    3/  100] | d_loss: 1.1059 | g_loss: 1.0982\n",
      "Epoch [    3/  100] | d_loss: 1.1339 | g_loss: 1.3116\n",
      "Epoch [    3/  100] | d_loss: 1.1219 | g_loss: 0.9871\n",
      "Epoch [    4/  100] | d_loss: 1.3455 | g_loss: 0.6838\n",
      "Epoch [    4/  100] | d_loss: 1.2738 | g_loss: 1.2920\n",
      "Epoch [    4/  100] | d_loss: 1.0492 | g_loss: 1.8061\n",
      "Epoch [    5/  100] | d_loss: 1.1771 | g_loss: 1.0600\n",
      "Epoch [    5/  100] | d_loss: 1.3630 | g_loss: 0.8632\n",
      "Epoch [    5/  100] | d_loss: 0.8821 | g_loss: 2.3277\n",
      "Epoch [    6/  100] | d_loss: 1.2344 | g_loss: 2.0202\n",
      "Epoch [    6/  100] | d_loss: 1.2281 | g_loss: 1.0996\n",
      "Epoch [    6/  100] | d_loss: 1.2351 | g_loss: 0.9224\n",
      "Epoch [    7/  100] | d_loss: 1.1748 | g_loss: 0.9980\n",
      "Epoch [    7/  100] | d_loss: 1.1142 | g_loss: 2.9239\n",
      "Epoch [    7/  100] | d_loss: 0.8382 | g_loss: 2.4679\n",
      "Epoch [    8/  100] | d_loss: 1.2346 | g_loss: 1.2888\n",
      "Epoch [    8/  100] | d_loss: 1.1844 | g_loss: 1.5254\n",
      "Epoch [    8/  100] | d_loss: 1.2021 | g_loss: 1.0256\n",
      "Epoch [    9/  100] | d_loss: 1.1645 | g_loss: 1.9977\n",
      "Epoch [    9/  100] | d_loss: 1.1766 | g_loss: 1.4466\n",
      "Epoch [    9/  100] | d_loss: 1.2953 | g_loss: 1.0231\n",
      "Epoch [   10/  100] | d_loss: 1.2548 | g_loss: 1.3272\n",
      "Epoch [   10/  100] | d_loss: 1.2425 | g_loss: 1.1536\n",
      "Epoch [   10/  100] | d_loss: 1.2957 | g_loss: 0.9625\n",
      "Epoch [   11/  100] | d_loss: 1.2655 | g_loss: 0.8495\n",
      "Epoch [   11/  100] | d_loss: 1.1363 | g_loss: 1.5022\n",
      "Epoch [   11/  100] | d_loss: 1.2191 | g_loss: 1.0115\n",
      "Epoch [   12/  100] | d_loss: 1.2444 | g_loss: 2.0413\n",
      "Epoch [   12/  100] | d_loss: 1.2927 | g_loss: 1.6570\n",
      "Epoch [   12/  100] | d_loss: 1.2594 | g_loss: 1.8140\n",
      "Epoch [   13/  100] | d_loss: 1.2739 | g_loss: 0.7976\n",
      "Epoch [   13/  100] | d_loss: 1.3297 | g_loss: 1.1381\n",
      "Epoch [   13/  100] | d_loss: 1.4036 | g_loss: 0.9036\n",
      "Epoch [   14/  100] | d_loss: 1.3065 | g_loss: 0.9643\n",
      "Epoch [   14/  100] | d_loss: 1.2376 | g_loss: 0.9169\n",
      "Epoch [   14/  100] | d_loss: 1.2444 | g_loss: 1.2248\n",
      "Epoch [   15/  100] | d_loss: 1.1874 | g_loss: 0.9972\n",
      "Epoch [   15/  100] | d_loss: 1.1772 | g_loss: 1.2013\n",
      "Epoch [   15/  100] | d_loss: 1.2605 | g_loss: 0.9229\n",
      "Epoch [   16/  100] | d_loss: 1.2876 | g_loss: 0.8934\n",
      "Epoch [   16/  100] | d_loss: 1.2136 | g_loss: 1.1290\n",
      "Epoch [   16/  100] | d_loss: 1.3683 | g_loss: 0.8128\n",
      "Epoch [   17/  100] | d_loss: 1.3798 | g_loss: 0.9098\n",
      "Epoch [   17/  100] | d_loss: 1.2588 | g_loss: 0.9513\n",
      "Epoch [   17/  100] | d_loss: 1.2424 | g_loss: 1.0834\n",
      "Epoch [   18/  100] | d_loss: 1.3550 | g_loss: 0.8733\n",
      "Epoch [   18/  100] | d_loss: 1.1720 | g_loss: 1.0760\n",
      "Epoch [   18/  100] | d_loss: 1.2802 | g_loss: 1.2096\n",
      "Epoch [   19/  100] | d_loss: 1.3148 | g_loss: 0.9866\n",
      "Epoch [   19/  100] | d_loss: 1.2305 | g_loss: 1.0840\n",
      "Epoch [   19/  100] | d_loss: 1.2918 | g_loss: 1.0005\n",
      "Epoch [   20/  100] | d_loss: 1.2315 | g_loss: 1.4793\n",
      "Epoch [   20/  100] | d_loss: 1.1333 | g_loss: 1.0813\n",
      "Epoch [   20/  100] | d_loss: 1.3031 | g_loss: 1.0505\n",
      "Epoch [   21/  100] | d_loss: 1.2598 | g_loss: 1.0361\n",
      "Epoch [   21/  100] | d_loss: 1.2043 | g_loss: 1.1593\n",
      "Epoch [   21/  100] | d_loss: 1.2291 | g_loss: 1.1307\n",
      "Epoch [   22/  100] | d_loss: 1.2755 | g_loss: 1.0502\n",
      "Epoch [   22/  100] | d_loss: 1.3595 | g_loss: 1.0468\n",
      "Epoch [   22/  100] | d_loss: 1.3027 | g_loss: 0.9108\n",
      "Epoch [   23/  100] | d_loss: 1.2270 | g_loss: 1.3521\n",
      "Epoch [   23/  100] | d_loss: 1.2356 | g_loss: 1.0389\n",
      "Epoch [   23/  100] | d_loss: 1.5392 | g_loss: 1.0684\n",
      "Epoch [   24/  100] | d_loss: 1.2851 | g_loss: 1.0209\n",
      "Epoch [   24/  100] | d_loss: 1.1512 | g_loss: 1.1588\n",
      "Epoch [   24/  100] | d_loss: 1.3198 | g_loss: 1.0393\n",
      "Epoch [   25/  100] | d_loss: 1.2708 | g_loss: 0.9572\n",
      "Epoch [   25/  100] | d_loss: 1.3622 | g_loss: 1.0268\n",
      "Epoch [   25/  100] | d_loss: 1.2501 | g_loss: 1.0160\n",
      "Epoch [   26/  100] | d_loss: 1.4680 | g_loss: 1.2303\n",
      "Epoch [   26/  100] | d_loss: 1.2192 | g_loss: 1.0623\n",
      "Epoch [   26/  100] | d_loss: 1.3481 | g_loss: 1.1080\n",
      "Epoch [   27/  100] | d_loss: 1.2857 | g_loss: 1.0564\n",
      "Epoch [   27/  100] | d_loss: 1.3553 | g_loss: 0.8444\n",
      "Epoch [   27/  100] | d_loss: 1.1820 | g_loss: 1.2831\n",
      "Epoch [   28/  100] | d_loss: 1.2374 | g_loss: 1.2602\n",
      "Epoch [   28/  100] | d_loss: 1.3755 | g_loss: 1.2405\n",
      "Epoch [   28/  100] | d_loss: 1.3489 | g_loss: 1.2048\n",
      "Epoch [   29/  100] | d_loss: 1.1599 | g_loss: 1.4047\n",
      "Epoch [   29/  100] | d_loss: 1.2393 | g_loss: 1.1221\n",
      "Epoch [   29/  100] | d_loss: 1.2527 | g_loss: 0.8646\n",
      "Epoch [   30/  100] | d_loss: 1.2723 | g_loss: 1.0476\n",
      "Epoch [   30/  100] | d_loss: 1.2659 | g_loss: 0.8468\n",
      "Epoch [   30/  100] | d_loss: 1.2603 | g_loss: 1.0744\n",
      "Epoch [   31/  100] | d_loss: 1.3558 | g_loss: 1.2419\n",
      "Epoch [   31/  100] | d_loss: 1.3233 | g_loss: 0.9902\n",
      "Epoch [   31/  100] | d_loss: 1.3775 | g_loss: 1.1473\n",
      "Epoch [   32/  100] | d_loss: 1.2662 | g_loss: 1.3159\n",
      "Epoch [   32/  100] | d_loss: 1.2548 | g_loss: 1.2565\n",
      "Epoch [   32/  100] | d_loss: 1.3047 | g_loss: 0.9687\n",
      "Epoch [   33/  100] | d_loss: 1.2916 | g_loss: 0.8774\n",
      "Epoch [   33/  100] | d_loss: 1.2892 | g_loss: 0.9172\n",
      "Epoch [   33/  100] | d_loss: 1.3434 | g_loss: 0.8492\n",
      "Epoch [   34/  100] | d_loss: 1.3180 | g_loss: 1.0356\n",
      "Epoch [   34/  100] | d_loss: 1.3079 | g_loss: 0.8966\n",
      "Epoch [   34/  100] | d_loss: 1.3571 | g_loss: 1.0658\n",
      "Epoch [   35/  100] | d_loss: 1.2590 | g_loss: 1.4465\n",
      "Epoch [   35/  100] | d_loss: 1.2431 | g_loss: 1.0153\n",
      "Epoch [   35/  100] | d_loss: 1.3308 | g_loss: 1.1738\n",
      "Epoch [   36/  100] | d_loss: 1.3976 | g_loss: 1.0233\n",
      "Epoch [   36/  100] | d_loss: 1.3276 | g_loss: 1.0337\n",
      "Epoch [   36/  100] | d_loss: 1.2781 | g_loss: 0.9770\n",
      "Epoch [   37/  100] | d_loss: 1.3950 | g_loss: 0.9482\n",
      "Epoch [   37/  100] | d_loss: 1.2632 | g_loss: 1.2622\n",
      "Epoch [   37/  100] | d_loss: 1.1710 | g_loss: 1.2243\n",
      "Epoch [   38/  100] | d_loss: 1.1968 | g_loss: 1.1739\n",
      "Epoch [   38/  100] | d_loss: 1.5115 | g_loss: 1.2411\n",
      "Epoch [   38/  100] | d_loss: 1.3041 | g_loss: 1.1981\n",
      "Epoch [   39/  100] | d_loss: 1.3034 | g_loss: 0.9723\n",
      "Epoch [   39/  100] | d_loss: 1.2462 | g_loss: 1.1327\n",
      "Epoch [   39/  100] | d_loss: 1.3449 | g_loss: 0.8660\n",
      "Epoch [   40/  100] | d_loss: 1.3413 | g_loss: 0.8464\n",
      "Epoch [   40/  100] | d_loss: 1.2107 | g_loss: 0.9923\n",
      "Epoch [   40/  100] | d_loss: 1.4272 | g_loss: 0.8446\n",
      "Epoch [   41/  100] | d_loss: 1.3519 | g_loss: 0.8571\n",
      "Epoch [   41/  100] | d_loss: 1.3035 | g_loss: 1.1592\n",
      "Epoch [   41/  100] | d_loss: 1.3173 | g_loss: 0.9374\n",
      "Epoch [   42/  100] | d_loss: 1.3709 | g_loss: 1.1677\n",
      "Epoch [   42/  100] | d_loss: 1.3040 | g_loss: 1.2676\n",
      "Epoch [   42/  100] | d_loss: 1.3397 | g_loss: 0.9750\n",
      "Epoch [   43/  100] | d_loss: 1.2248 | g_loss: 1.0081\n",
      "Epoch [   43/  100] | d_loss: 1.3606 | g_loss: 0.8417\n",
      "Epoch [   43/  100] | d_loss: 1.3849 | g_loss: 0.9543\n",
      "Epoch [   44/  100] | d_loss: 1.3614 | g_loss: 0.9571\n",
      "Epoch [   44/  100] | d_loss: 1.2790 | g_loss: 0.8834\n",
      "Epoch [   44/  100] | d_loss: 1.3951 | g_loss: 0.8611\n",
      "Epoch [   45/  100] | d_loss: 1.3597 | g_loss: 0.9499\n",
      "Epoch [   45/  100] | d_loss: 1.3029 | g_loss: 1.0368\n",
      "Epoch [   45/  100] | d_loss: 1.4359 | g_loss: 0.9526\n",
      "Epoch [   46/  100] | d_loss: 1.2945 | g_loss: 0.9665\n",
      "Epoch [   46/  100] | d_loss: 1.2541 | g_loss: 0.9350\n",
      "Epoch [   46/  100] | d_loss: 1.3843 | g_loss: 1.1197\n",
      "Epoch [   47/  100] | d_loss: 1.1749 | g_loss: 0.9728\n",
      "Epoch [   47/  100] | d_loss: 1.1996 | g_loss: 1.0510\n",
      "Epoch [   47/  100] | d_loss: 1.3792 | g_loss: 0.8919\n",
      "Epoch [   48/  100] | d_loss: 1.2407 | g_loss: 1.0492\n",
      "Epoch [   48/  100] | d_loss: 1.3945 | g_loss: 0.8981\n",
      "Epoch [   48/  100] | d_loss: 1.4199 | g_loss: 0.9688\n",
      "Epoch [   49/  100] | d_loss: 1.1919 | g_loss: 2.0490\n",
      "Epoch [   49/  100] | d_loss: 1.2130 | g_loss: 1.0314\n",
      "Epoch [   49/  100] | d_loss: 1.3803 | g_loss: 0.9405\n",
      "Epoch [   50/  100] | d_loss: 1.4379 | g_loss: 1.6239\n",
      "Epoch [   50/  100] | d_loss: 1.2750 | g_loss: 1.0193\n",
      "Epoch [   50/  100] | d_loss: 1.3442 | g_loss: 1.1460\n",
      "Epoch [   51/  100] | d_loss: 1.3081 | g_loss: 1.0670\n"
     ]
    },
    {
     "name": "stdout",
     "output_type": "stream",
     "text": [
      "Epoch [   51/  100] | d_loss: 1.2838 | g_loss: 0.8944\n",
      "Epoch [   51/  100] | d_loss: 1.2717 | g_loss: 1.0183\n",
      "Epoch [   52/  100] | d_loss: 1.1956 | g_loss: 1.1023\n",
      "Epoch [   52/  100] | d_loss: 1.4051 | g_loss: 1.0594\n",
      "Epoch [   52/  100] | d_loss: 1.3807 | g_loss: 0.8806\n",
      "Epoch [   53/  100] | d_loss: 1.2241 | g_loss: 1.3625\n",
      "Epoch [   53/  100] | d_loss: 1.3265 | g_loss: 0.9360\n",
      "Epoch [   53/  100] | d_loss: 1.4373 | g_loss: 0.9308\n",
      "Epoch [   54/  100] | d_loss: 1.3989 | g_loss: 1.0653\n",
      "Epoch [   54/  100] | d_loss: 1.2859 | g_loss: 0.7950\n",
      "Epoch [   54/  100] | d_loss: 1.3715 | g_loss: 0.9381\n",
      "Epoch [   55/  100] | d_loss: 1.3338 | g_loss: 0.8583\n",
      "Epoch [   55/  100] | d_loss: 1.3296 | g_loss: 1.0545\n",
      "Epoch [   55/  100] | d_loss: 1.3791 | g_loss: 0.9805\n",
      "Epoch [   56/  100] | d_loss: 1.4352 | g_loss: 1.0209\n",
      "Epoch [   56/  100] | d_loss: 1.2845 | g_loss: 1.0259\n",
      "Epoch [   56/  100] | d_loss: 1.3619 | g_loss: 1.0561\n",
      "Epoch [   57/  100] | d_loss: 1.2688 | g_loss: 1.0782\n",
      "Epoch [   57/  100] | d_loss: 1.2826 | g_loss: 1.0610\n",
      "Epoch [   57/  100] | d_loss: 1.4213 | g_loss: 0.9660\n",
      "Epoch [   58/  100] | d_loss: 1.3128 | g_loss: 1.1333\n",
      "Epoch [   58/  100] | d_loss: 1.2514 | g_loss: 0.9843\n",
      "Epoch [   58/  100] | d_loss: 1.3210 | g_loss: 1.0878\n",
      "Epoch [   59/  100] | d_loss: 1.2123 | g_loss: 1.2298\n",
      "Epoch [   59/  100] | d_loss: 1.2271 | g_loss: 1.1409\n",
      "Epoch [   59/  100] | d_loss: 1.3761 | g_loss: 1.0671\n",
      "Epoch [   60/  100] | d_loss: 1.2643 | g_loss: 1.1082\n",
      "Epoch [   60/  100] | d_loss: 1.2984 | g_loss: 1.2574\n",
      "Epoch [   60/  100] | d_loss: 1.3296 | g_loss: 0.9800\n",
      "Epoch [   61/  100] | d_loss: 1.3510 | g_loss: 1.0076\n",
      "Epoch [   61/  100] | d_loss: 1.2102 | g_loss: 1.1871\n",
      "Epoch [   61/  100] | d_loss: 1.3303 | g_loss: 1.0627\n",
      "Epoch [   62/  100] | d_loss: 1.2769 | g_loss: 0.9481\n",
      "Epoch [   62/  100] | d_loss: 1.2488 | g_loss: 1.0346\n",
      "Epoch [   62/  100] | d_loss: 1.2510 | g_loss: 1.0327\n",
      "Epoch [   63/  100] | d_loss: 1.2587 | g_loss: 1.1243\n",
      "Epoch [   63/  100] | d_loss: 1.3367 | g_loss: 1.0433\n",
      "Epoch [   63/  100] | d_loss: 1.3922 | g_loss: 1.0347\n",
      "Epoch [   64/  100] | d_loss: 1.3478 | g_loss: 0.8585\n",
      "Epoch [   64/  100] | d_loss: 1.2708 | g_loss: 1.0018\n",
      "Epoch [   64/  100] | d_loss: 1.4681 | g_loss: 1.0406\n",
      "Epoch [   65/  100] | d_loss: 1.3336 | g_loss: 1.3689\n",
      "Epoch [   65/  100] | d_loss: 1.1665 | g_loss: 1.1075\n",
      "Epoch [   65/  100] | d_loss: 1.3248 | g_loss: 0.9401\n",
      "Epoch [   66/  100] | d_loss: 1.3029 | g_loss: 0.8624\n",
      "Epoch [   66/  100] | d_loss: 1.2985 | g_loss: 1.2407\n",
      "Epoch [   66/  100] | d_loss: 1.3556 | g_loss: 0.9656\n",
      "Epoch [   67/  100] | d_loss: 1.3443 | g_loss: 0.8396\n",
      "Epoch [   67/  100] | d_loss: 1.2374 | g_loss: 1.0430\n",
      "Epoch [   67/  100] | d_loss: 1.3470 | g_loss: 1.0658\n",
      "Epoch [   68/  100] | d_loss: 1.3641 | g_loss: 0.8207\n",
      "Epoch [   68/  100] | d_loss: 1.3606 | g_loss: 0.8906\n",
      "Epoch [   68/  100] | d_loss: 1.4335 | g_loss: 1.0891\n",
      "Epoch [   69/  100] | d_loss: 1.1828 | g_loss: 1.0441\n",
      "Epoch [   69/  100] | d_loss: 1.3326 | g_loss: 1.0387\n",
      "Epoch [   69/  100] | d_loss: 1.2587 | g_loss: 1.0961\n",
      "Epoch [   70/  100] | d_loss: 1.2655 | g_loss: 1.1204\n",
      "Epoch [   70/  100] | d_loss: 1.3916 | g_loss: 1.1223\n",
      "Epoch [   70/  100] | d_loss: 1.2167 | g_loss: 0.9870\n",
      "Epoch [   71/  100] | d_loss: 1.3428 | g_loss: 1.0111\n",
      "Epoch [   71/  100] | d_loss: 1.2808 | g_loss: 1.4992\n",
      "Epoch [   71/  100] | d_loss: 1.2525 | g_loss: 1.1246\n",
      "Epoch [   72/  100] | d_loss: 1.3192 | g_loss: 1.0502\n",
      "Epoch [   72/  100] | d_loss: 1.3649 | g_loss: 1.1523\n",
      "Epoch [   72/  100] | d_loss: 1.3598 | g_loss: 1.0123\n",
      "Epoch [   73/  100] | d_loss: 1.2860 | g_loss: 1.4799\n",
      "Epoch [   73/  100] | d_loss: 1.1401 | g_loss: 0.9898\n",
      "Epoch [   73/  100] | d_loss: 1.3990 | g_loss: 0.9023\n",
      "Epoch [   74/  100] | d_loss: 1.2432 | g_loss: 0.9562\n",
      "Epoch [   74/  100] | d_loss: 1.2692 | g_loss: 1.2734\n",
      "Epoch [   74/  100] | d_loss: 1.2992 | g_loss: 0.9095\n",
      "Epoch [   75/  100] | d_loss: 1.2626 | g_loss: 1.6120\n",
      "Epoch [   75/  100] | d_loss: 1.3949 | g_loss: 1.1780\n",
      "Epoch [   75/  100] | d_loss: 1.3832 | g_loss: 0.9911\n",
      "Epoch [   76/  100] | d_loss: 1.3164 | g_loss: 0.9482\n",
      "Epoch [   76/  100] | d_loss: 1.3341 | g_loss: 1.0175\n",
      "Epoch [   76/  100] | d_loss: 1.3810 | g_loss: 1.2104\n",
      "Epoch [   77/  100] | d_loss: 1.2522 | g_loss: 1.1008\n",
      "Epoch [   77/  100] | d_loss: 1.4045 | g_loss: 0.9663\n",
      "Epoch [   77/  100] | d_loss: 1.3168 | g_loss: 1.3399\n",
      "Epoch [   78/  100] | d_loss: 1.2530 | g_loss: 1.0064\n",
      "Epoch [   78/  100] | d_loss: 1.2356 | g_loss: 1.0253\n",
      "Epoch [   78/  100] | d_loss: 1.4739 | g_loss: 1.0588\n",
      "Epoch [   79/  100] | d_loss: 1.2302 | g_loss: 0.9065\n",
      "Epoch [   79/  100] | d_loss: 1.2909 | g_loss: 1.0008\n",
      "Epoch [   79/  100] | d_loss: 1.3531 | g_loss: 0.9392\n",
      "Epoch [   80/  100] | d_loss: 1.3006 | g_loss: 0.9587\n",
      "Epoch [   80/  100] | d_loss: 1.2955 | g_loss: 0.8936\n",
      "Epoch [   80/  100] | d_loss: 1.3404 | g_loss: 1.1267\n",
      "Epoch [   81/  100] | d_loss: 1.3510 | g_loss: 1.0036\n",
      "Epoch [   81/  100] | d_loss: 1.3496 | g_loss: 0.9021\n",
      "Epoch [   81/  100] | d_loss: 1.3704 | g_loss: 1.0364\n",
      "Epoch [   82/  100] | d_loss: 1.2842 | g_loss: 0.9348\n",
      "Epoch [   82/  100] | d_loss: 1.2819 | g_loss: 0.8904\n",
      "Epoch [   82/  100] | d_loss: 1.2679 | g_loss: 1.0456\n",
      "Epoch [   83/  100] | d_loss: 1.1516 | g_loss: 1.0237\n",
      "Epoch [   83/  100] | d_loss: 1.3635 | g_loss: 0.9693\n",
      "Epoch [   83/  100] | d_loss: 1.4414 | g_loss: 0.9755\n",
      "Epoch [   84/  100] | d_loss: 1.2416 | g_loss: 1.1006\n",
      "Epoch [   84/  100] | d_loss: 1.2103 | g_loss: 1.0581\n",
      "Epoch [   84/  100] | d_loss: 1.5032 | g_loss: 1.0713\n",
      "Epoch [   85/  100] | d_loss: 1.3912 | g_loss: 1.1419\n",
      "Epoch [   85/  100] | d_loss: 1.2598 | g_loss: 1.0770\n",
      "Epoch [   85/  100] | d_loss: 1.3654 | g_loss: 0.8355\n",
      "Epoch [   86/  100] | d_loss: 1.3585 | g_loss: 0.9078\n",
      "Epoch [   86/  100] | d_loss: 1.4396 | g_loss: 0.9693\n",
      "Epoch [   86/  100] | d_loss: 1.3067 | g_loss: 1.1415\n",
      "Epoch [   87/  100] | d_loss: 1.2438 | g_loss: 1.1539\n",
      "Epoch [   87/  100] | d_loss: 1.2664 | g_loss: 0.8326\n",
      "Epoch [   87/  100] | d_loss: 1.3828 | g_loss: 0.9853\n",
      "Epoch [   88/  100] | d_loss: 1.3782 | g_loss: 1.2249\n",
      "Epoch [   88/  100] | d_loss: 1.2046 | g_loss: 1.0056\n",
      "Epoch [   88/  100] | d_loss: 1.2985 | g_loss: 1.1273\n",
      "Epoch [   89/  100] | d_loss: 1.4061 | g_loss: 1.2064\n",
      "Epoch [   89/  100] | d_loss: 1.3118 | g_loss: 0.9660\n",
      "Epoch [   89/  100] | d_loss: 1.3324 | g_loss: 1.1030\n",
      "Epoch [   90/  100] | d_loss: 1.2973 | g_loss: 0.8056\n",
      "Epoch [   90/  100] | d_loss: 1.2424 | g_loss: 0.9580\n",
      "Epoch [   90/  100] | d_loss: 1.2646 | g_loss: 0.9237\n",
      "Epoch [   91/  100] | d_loss: 1.3111 | g_loss: 1.1263\n",
      "Epoch [   91/  100] | d_loss: 1.1996 | g_loss: 0.9511\n",
      "Epoch [   91/  100] | d_loss: 1.5356 | g_loss: 1.0936\n",
      "Epoch [   92/  100] | d_loss: 1.2782 | g_loss: 1.0419\n",
      "Epoch [   92/  100] | d_loss: 1.4237 | g_loss: 0.8890\n",
      "Epoch [   92/  100] | d_loss: 1.5500 | g_loss: 1.3755\n",
      "Epoch [   93/  100] | d_loss: 1.3143 | g_loss: 1.1422\n",
      "Epoch [   93/  100] | d_loss: 1.2541 | g_loss: 1.1352\n",
      "Epoch [   93/  100] | d_loss: 1.2885 | g_loss: 1.0538\n",
      "Epoch [   94/  100] | d_loss: 1.2391 | g_loss: 1.3973\n",
      "Epoch [   94/  100] | d_loss: 1.3228 | g_loss: 0.8964\n",
      "Epoch [   94/  100] | d_loss: 1.3601 | g_loss: 0.9737\n",
      "Epoch [   95/  100] | d_loss: 1.2152 | g_loss: 1.0810\n",
      "Epoch [   95/  100] | d_loss: 1.3075 | g_loss: 0.7901\n",
      "Epoch [   95/  100] | d_loss: 1.2741 | g_loss: 0.9600\n",
      "Epoch [   96/  100] | d_loss: 1.1497 | g_loss: 1.0827\n",
      "Epoch [   96/  100] | d_loss: 1.3830 | g_loss: 0.9677\n",
      "Epoch [   96/  100] | d_loss: 1.4025 | g_loss: 1.3684\n",
      "Epoch [   97/  100] | d_loss: 1.2251 | g_loss: 0.9955\n",
      "Epoch [   97/  100] | d_loss: 1.3719 | g_loss: 1.0924\n",
      "Epoch [   97/  100] | d_loss: 1.2989 | g_loss: 1.2643\n",
      "Epoch [   98/  100] | d_loss: 1.2469 | g_loss: 1.0214\n",
      "Epoch [   98/  100] | d_loss: 1.2436 | g_loss: 0.9415\n",
      "Epoch [   98/  100] | d_loss: 1.2774 | g_loss: 1.0308\n",
      "Epoch [   99/  100] | d_loss: 1.2194 | g_loss: 1.0032\n",
      "Epoch [   99/  100] | d_loss: 1.2231 | g_loss: 1.0101\n",
      "Epoch [   99/  100] | d_loss: 1.5485 | g_loss: 1.1583\n",
      "Epoch [  100/  100] | d_loss: 1.2982 | g_loss: 1.0247\n",
      "Epoch [  100/  100] | d_loss: 1.1538 | g_loss: 1.0989\n",
      "Epoch [  100/  100] | d_loss: 1.2982 | g_loss: 0.9759\n"
     ]
    }
   ],
   "source": [
    "import pickle as pkl\n",
    "\n",
    "# training hyperparams\n",
    "num_epochs = 40\n",
    "\n",
    "# keep track of loss and generated, \"fake\" samples\n",
    "samples = []\n",
    "losses = []\n",
    "\n",
    "print_every = 400\n",
    "\n",
    "# Get some fixed data for sampling. These are images that are held\n",
    "# constant throughout training, and allow us to inspect the model's performance\n",
    "sample_size=16\n",
    "fixed_z = np.random.uniform(-1, 1, size=(sample_size, z_size))\n",
    "fixed_z = torch.from_numpy(fixed_z).float()\n",
    "\n",
    "# train the network\n",
    "D.train()\n",
    "G.train()\n",
    "for epoch in range(num_epochs):\n",
    "    \n",
    "    for batch_i, (real_images, _) in enumerate(train_loader):\n",
    "                \n",
    "        batch_size = real_images.size(0)\n",
    "        \n",
    "        ## Important rescaling step ## \n",
    "        real_images = real_images*2 - 1  # rescale input images from [0,1) to [-1, 1)\n",
    "        \n",
    "        # ============================================\n",
    "        #            TRAIN THE DISCRIMINATOR\n",
    "        # ============================================\n",
    "                \n",
    "        # 1. Train with real images\n",
    "\n",
    "        # Compute the discriminator losses on real images\n",
    "        # use smoothed labels\n",
    "        \n",
    "        # 2. Train with fake images\n",
    "        \n",
    "        # Generate fake images\n",
    "        z = np.random.uniform(-1, 1, size=(batch_size, z_size))\n",
    "        z = torch.from_numpy(z).float()\n",
    "        fake_images = G(z)\n",
    "        \n",
    "        # Compute the discriminator losses on fake images        \n",
    "        \n",
    "        # add up real and fake losses and perform backprop\n",
    "        d_loss = \n",
    "        \n",
    "        \n",
    "        # =========================================\n",
    "        #            TRAIN THE GENERATOR\n",
    "        # =========================================\n",
    "        \n",
    "        # 1. Train with fake images and flipped labels\n",
    "        \n",
    "        # Generate fake images\n",
    "        \n",
    "        # Compute the discriminator losses on fake images \n",
    "        # using flipped labels!\n",
    "        \n",
    "        # perform backprop\n",
    "        g_loss = \n",
    "        \n",
    "\n",
    "        # Print some loss stats\n",
    "        if batch_i % print_every == 0:\n",
    "            # print discriminator and generator loss\n",
    "            print('Epoch [{:5d}/{:5d}] | d_loss: {:6.4f} | g_loss: {:6.4f}'.format(\n",
    "                    epoch+1, num_epochs, d_loss.item(), g_loss.item()))\n",
    "\n",
    "    \n",
    "    ## AFTER EACH EPOCH##\n",
    "    # append discriminator loss and generator loss\n",
    "    losses.append((d_loss.item(), g_loss.item()))\n",
    "    \n",
    "    # generate and save sample, fake images\n",
    "    G.eval() # eval mode for generating samples\n",
    "    samples_z = G(fixed_z)\n",
    "    samples.append(samples_z)\n",
    "    G.train() # back to train mode\n",
    "\n",
    "\n",
    "# Save training generator samples\n",
    "with open('train_samples.pkl', 'wb') as f:\n",
    "    pkl.dump(samples, f)"
   ]
  },
  {
   "cell_type": "markdown",
   "metadata": {},
   "source": [
    "## Training loss\n",
    "\n",
    "Here we'll plot the training losses for the generator and discriminator, recorded after each epoch."
   ]
  },
  {
   "cell_type": "code",
   "execution_count": 26,
   "metadata": {},
   "outputs": [
    {
     "data": {
      "text/plain": [
       "<matplotlib.legend.Legend at 0x1ddd1d2d0f0>"
      ]
     },
     "execution_count": 26,
     "metadata": {},
     "output_type": "execute_result"
    },
    {
     "data": {
      "image/png": "[encoded data removed]",
      "text/plain": [
       "<Figure size 432x288 with 1 Axes>"
      ]
     },
     "metadata": {
      "needs_background": "light"
     },
     "output_type": "display_data"
    }
   ],
   "source": [
    "fig, ax = plt.subplots()\n",
    "losses = np.array(losses)\n",
    "plt.plot(losses.T[0], label='Discriminator')\n",
    "plt.plot(losses.T[1], label='Generator')\n",
    "plt.title(\"Training Losses\")\n",
    "plt.legend()"
   ]
  },
  {
   "cell_type": "markdown",
   "metadata": {},
   "source": [
    "## Generator samples from training\n",
    "\n",
    "Here we can view samples of images from the generator. First we'll look at the images we saved during training."
   ]
  },
  {
   "cell_type": "code",
   "execution_count": 27,
   "metadata": {},
   "outputs": [],
   "source": [
    "# helper function for viewing a list of passed in sample images\n",
    "def view_samples(epoch, samples):\n",
    "    fig, axes = plt.subplots(figsize=(7,7), nrows=4, ncols=4, sharey=True, sharex=True)\n",
    "    for ax, img in zip(axes.flatten(), samples[epoch]):\n",
    "        img = img.detach()\n",
    "        ax.xaxis.set_visible(False)\n",
    "        ax.yaxis.set_visible(False)\n",
    "        im = ax.imshow(img.reshape((28,28)), cmap='Greys_r')"
   ]
  },
  {
   "cell_type": "code",
   "execution_count": 28,
   "metadata": {},
   "outputs": [],
   "source": [
    "# Load samples from generator, taken while training\n",
    "with open('train_samples.pkl', 'rb') as f:\n",
    "    samples = pkl.load(f)"
   ]
  },
  {
   "cell_type": "markdown",
   "metadata": {},
   "source": [
    "These are samples from the final training epoch. You can see the generator is able to reproduce numbers like 1, 7, 3, 2. Since this is just a sample, it isn't representative of the full range of images this generator can make."
   ]
  },
  {
   "cell_type": "code",
   "execution_count": 29,
   "metadata": {},
   "outputs": [
    {
     "data": {
      "image/png": "[encoded data removed]",
      "text/plain": [
       "<Figure size 504x504 with 16 Axes>"
      ]
     },
     "metadata": {
      "needs_background": "light"
     },
     "output_type": "display_data"
    }
   ],
   "source": [
    "# -1 indicates final epoch's samples (the last in the list)\n",
    "view_samples(-1, samples)"
   ]
  },
  {
   "cell_type": "markdown",
   "metadata": {},
   "source": [
    "Below I'm showing the generated images as the network was training, every 10 epochs."
   ]
  },
  {
   "cell_type": "code",
   "execution_count": 30,
   "metadata": {},
   "outputs": [
    {
     "data": {
      "image/png": "[encoded data removed]",
      "text/plain": [
       "<Figure size 504x864 with 60 Axes>"
      ]
     },
     "metadata": {
      "needs_background": "light"
     },
     "output_type": "display_data"
    }
   ],
   "source": [
    "rows = 10 # split epochs into 10, so 100/10 = every 10 epochs\n",
    "cols = 6\n",
    "fig, axes = plt.subplots(figsize=(7,12), nrows=rows, ncols=cols, sharex=True, sharey=True)\n",
    "\n",
    "for sample, ax_row in zip(samples[::int(len(samples)/rows)], axes):\n",
    "    for img, ax in zip(sample[::int(len(sample)/cols)], ax_row):\n",
    "        img = img.detach()\n",
    "        ax.imshow(img.reshape((28,28)), cmap='Greys_r')\n",
    "        ax.xaxis.set_visible(False)\n",
    "        ax.yaxis.set_visible(False)"
   ]
  },
  {
   "cell_type": "markdown",
   "metadata": {},
   "source": [
    "It starts out as all noise. Then it learns to make only the center white and the rest black. You can start to see some number like structures appear out of the noise like 1s and 9s."
   ]
  },
  {
   "cell_type": "markdown",
   "metadata": {},
   "source": [
    "## Sampling from the generator\n",
    "\n",
    "We can also get completely new images from the generator by using the checkpoint we saved after training. **We just need to pass in a new latent vector $z$ and we'll get new samples**!"
   ]
  },
  {
   "cell_type": "code",
   "execution_count": 31,
   "metadata": {},
   "outputs": [
    {
     "data": {
      "image/png": "[encoded data removed]",
      "text/plain": [
       "<Figure size 504x504 with 16 Axes>"
      ]
     },
     "metadata": {
      "needs_background": "light"
     },
     "output_type": "display_data"
    }
   ],
   "source": [
    "# randomly generated, new latent vectors\n",
    "sample_size=16\n",
    "rand_z = np.random.uniform(-1, 1, size=(sample_size, z_size))\n",
    "rand_z = torch.from_numpy(rand_z).float()\n",
    "\n",
    "G.eval() # eval mode\n",
    "# generated samples\n",
    "rand_images = G(rand_z)\n",
    "\n",
    "# 0 indicates the first set of samples in the passed in list\n",
    "# and we only have one batch of samples, here\n",
    "view_samples(0, [rand_images])"
   ]
  }
 ],
 "metadata": {
  "kernelspec": {
   "display_name": "Python 3",
   "language": "python",
   "name": "python3"
  },
  "language_info": {
   "codemirror_mode": {
    "name": "ipython",
    "version": 3
   },
   "file_extension": ".py",
   "mimetype": "text/x-python",
   "name": "python",
   "nbconvert_exporter": "python",
   "pygments_lexer": "ipython3",
   "version": "3.7.3"
  }
 },
 "nbformat": 4,
 "nbformat_minor": 2
}
